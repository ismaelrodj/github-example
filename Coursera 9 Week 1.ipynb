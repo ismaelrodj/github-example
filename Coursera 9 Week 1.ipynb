{
    "cells": [
        {
            "metadata": {
                "collapsed": true
            },
            "cell_type": "markdown",
            "source": "# Business Problem"
        },
        {
            "metadata": {},
            "cell_type": "markdown",
            "source": "The following analysis solves the problem of finding similar areas in the city of Madrid (Spain) attending to similarity in the venues contained in each area of the city. \n\nThis analysis will be useful for a real estate business that wants to advise potential customers which are the areas in Madrid  match better the customers preferences in terms of services, businesses or any other venue that it is possible to find in each of these areas. \n\nAn example of why this is useful for the customer is the following: the customer likes a certain area, but the prices are too expensive. So the client asks the real estate which other areas are the best alternatives (i.e. the most similar). We will use this work to find the closest alternative areas for the given model provided by the client (his/her favorite, but expensive, area to live). "
        },
        {
            "metadata": {},
            "cell_type": "markdown",
            "source": "# Location Data used to perform the analysis"
        },
        {
            "metadata": {},
            "cell_type": "markdown",
            "source": "Our first step will be to divide the city of Madrid in areas distributed across the whole territory. For that purpose, we will use all the Postal Codes that exist in the city. \n\nA complete list of the postal code can be found here:\nhttp://distritopostal.es/madrid/madrid\n    \nThere are 55 in total, which will be writeen directly in the program. \n\nOnce we have the postal codes ready to be used, the Foursquare will be used to retrieve the following information:\n- Coordinates of each postal code.\n- Venues that are located on each postal code.\n- The coordinates of each individual venue. \n\nWe will use a radius of 1000 meters to retrieve the data around each postal code area. \n\nFor **example**, we will get the information for the postal code **28003** in Madrid, which is near to the center. Later, we will retrieve the latitude and longitude associated to that postal code, and after that we will find which venues can be found in a radius of 1000 meters around the postal code location given by Foursquare. We will repeat the procedure for all the Postal Codes."
        },
        {
            "metadata": {},
            "cell_type": "markdown",
            "source": "# Methodology used to find similarities among Postal Code areas"
        },
        {
            "metadata": {},
            "cell_type": "markdown",
            "source": "First, we will identifiy the top 10 most common venues for each postal code area. \n\nSecondly, we will group all the postal code areas in clusters attending to similarities in the venues present in those areas. \n\nWe will use K-Means algorithm to make such groups. All the 55 Postal Codes will be reduced to 5 group (or clusters). \n\nFinally, we will show which areas are similar using the clasification given by K-Means: all areas included in the same cluster will be considered as similar. The customer will just find his/her favorite area, given by the postal code, in the same cluster as other areas. Those areas will be the customers alternatives to find similar neighborhoods for their future home.  "
        },
        {
            "metadata": {},
            "cell_type": "code",
            "source": "",
            "execution_count": null,
            "outputs": []
        }
    ],
    "metadata": {
        "kernelspec": {
            "name": "python3",
            "display_name": "Python 3.6",
            "language": "python"
        },
        "language_info": {
            "name": "python",
            "version": "3.6.9",
            "mimetype": "text/x-python",
            "codemirror_mode": {
                "name": "ipython",
                "version": 3
            },
            "pygments_lexer": "ipython3",
            "nbconvert_exporter": "python",
            "file_extension": ".py"
        }
    },
    "nbformat": 4,
    "nbformat_minor": 1
}